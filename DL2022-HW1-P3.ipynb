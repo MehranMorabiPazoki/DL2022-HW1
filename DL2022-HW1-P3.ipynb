{
 "cells": [
  {
   "cell_type": "markdown",
   "metadata": {
    "deletable": false,
    "editable": false,
    "heading_collapsed": true,
    "run_control": {
     "frozen": true
    }
   },
   "source": [
    "# Deep Learning"
   ]
  },
  {
   "cell_type": "markdown",
   "metadata": {
    "deletable": false,
    "editable": false,
    "heading_collapsed": true,
    "hidden": true,
    "run_control": {
     "frozen": true
    }
   },
   "source": [
    "## HW1- Problem 3 - Regression (100 pts)"
   ]
  },
  {
   "cell_type": "markdown",
   "metadata": {
    "heading_collapsed": true,
    "hidden": true
   },
   "source": [
    "### Please fill this part\n",
    "\n",
    "\n",
    "1.   Full Name: Mehran Morabi Pazoki\n",
    "2.   Student Number: 400201661\n",
    "\n",
    "\n",
    "*You are just allowded to change those parts that start with \"TO DO\". Please do not change other parts.*\n",
    "\n",
    "*It is highly recommended to read each codeline carefully and try to understand what it exactly does. Best of luck and have fun!*"
   ]
  },
  {
   "cell_type": "code",
   "execution_count": 2,
   "metadata": {
    "hidden": true
   },
   "outputs": [],
   "source": [
    "# You are not allowed to import other packages.\n",
    "\n",
    "import numpy as np\n",
    "import pandas as pd\n",
    "\n",
    "from matplotlib import pyplot as plt\n",
    "from sklearn.metrics import mean_squared_error"
   ]
  },
  {
   "cell_type": "markdown",
   "metadata": {
    "deletable": false,
    "editable": false,
    "heading_collapsed": true,
    "hidden": true,
    "run_control": {
     "frozen": true
    }
   },
   "source": [
    "### Part1:\n",
    "Consider the dataset which has been given to you. Split the dataset into the `training dataset` and `test dataset`. You can use `80%` of the data for training and the rest for testing."
   ]
  },
  {
   "cell_type": "code",
   "execution_count": 3,
   "metadata": {
    "hidden": true
   },
   "outputs": [],
   "source": [
    "dataset = pd.read_csv(\"./data/data01.csv\")\n",
    "\n",
    "# implement the split part\n",
    "# name them: x_train, x_test, y_train, y_test\n",
    "TotLength=len(dataset)\n",
    "indexes=np.arange(500)\n",
    "np.random.shuffle(indexes)\n",
    "train_idx=indexes[0:int(0.8*TotLength)]\n",
    "test_idx=indexes[int(0.8*TotLength):TotLength]\n",
    "\n",
    "\n",
    "x_train = np.array(dataset['X'][train_idx])\n",
    "y_train = np.array(dataset['Y'][train_idx])\n",
    "\n",
    "x_test = np.array(dataset['X'][test_idx])\n",
    "y_test = np.array(dataset['Y'][test_idx])"
   ]
  },
  {
   "cell_type": "markdown",
   "metadata": {
    "deletable": false,
    "editable": false,
    "heading_collapsed": true,
    "hidden": true,
    "run_control": {
     "frozen": true
    }
   },
   "source": [
    "### Part2:\n",
    "Assume there is simple linear relationship between X and Y. Train a simple `Linear Regression` on the training dataset and report its accuracy on the training and testing dataset, separately."
   ]
  },
  {
   "cell_type": "code",
   "execution_count": 4,
   "metadata": {
    "hidden": true
   },
   "outputs": [],
   "source": [
    "# here you can implement via sgd or use least square solution. we suggest the second one inv(A^T A) * A^T y.\n",
    "# consider m as the returned line --> m[0] = the slope , m[1] = y intercept, also don't forget to use numpy for calculating m.\n",
    "A=np.concatenate((x_train.reshape(-1,1),np.ones_like(x_train).reshape(-1,1)),axis=1)\n",
    "y=y_train.reshape(-1,1)\n",
    "m = np.dot(np.dot(np.linalg.inv(np.dot(A.T,A)),A.T),y)"
   ]
  },
  {
   "cell_type": "code",
   "execution_count": 5,
   "metadata": {},
   "outputs": [
    {
     "data": {
      "text/plain": [
       "array([[-0.98381916],\n",
       "       [ 0.79090434]])"
      ]
     },
     "execution_count": 5,
     "metadata": {},
     "output_type": "execute_result"
    }
   ],
   "source": [
    "m"
   ]
  },
  {
   "cell_type": "code",
   "execution_count": 6,
   "metadata": {
    "hidden": true
   },
   "outputs": [
    {
     "name": "stdout",
     "output_type": "stream",
     "text": [
      "MSE train error: 0.32133831656561446\n",
      "MSE test error: 0.3701661690911338\n"
     ]
    }
   ],
   "source": [
    "predicted_train_y = m[0] * x_train + m[1]\n",
    "predicted_test_y = m[0] * x_test + m[1]\n",
    "\n",
    "# train_error = np.dot((y_train-predicted_train_y).T,y_train-predicted_train_y)/(0.8*TotLength)\n",
    "# test_error = np.dot((y_test-predicted_test_y).T,y_test-predicted_test_y)/(0.2*TotLength)\n",
    "train_error=mean_squared_error(y_train,predicted_train_y)\n",
    "test_error=mean_squared_error(y_test,predicted_test_y)\n",
    "\n",
    "\n",
    "print(f\"MSE train error: {train_error}\\nMSE test error: {test_error}\")"
   ]
  },
  {
   "cell_type": "markdown",
   "metadata": {
    "deletable": false,
    "editable": false,
    "heading_collapsed": true,
    "hidden": true,
    "run_control": {
     "frozen": true
    }
   },
   "source": [
    "### Part3:\n",
    "Draw the line you've found in the last part, on train and test points (each separately)."
   ]
  },
  {
   "cell_type": "code",
   "execution_count": 7,
   "metadata": {
    "hidden": true
   },
   "outputs": [
    {
     "data": {
      "text/plain": [
       "Text(0.5, 1.0, 'Train dataset')"
      ]
     },
     "execution_count": 7,
     "metadata": {},
     "output_type": "execute_result"
    },
    {
     "data": {
      "image/png": "[encoded data removed]",
      "text/plain": [
       "<Figure size 432x288 with 1 Axes>"
      ]
     },
     "metadata": {
      "needs_background": "light"
     },
     "output_type": "display_data"
    }
   ],
   "source": [
    "plt.scatter(x_train, y_train)\n",
    "plt.scatter(x_train, m[0]*x_train + m[1], s=1)\n",
    "plt.title(\"Train dataset\")"
   ]
  },
  {
   "cell_type": "code",
   "execution_count": 8,
   "metadata": {
    "hidden": true
   },
   "outputs": [
    {
     "data": {
      "text/plain": [
       "Text(0.5, 1.0, 'Test dataset')"
      ]
     },
     "execution_count": 8,
     "metadata": {},
     "output_type": "execute_result"
    },
    {
     "data": {
      "image/png": "[encoded data removed]",
      "text/plain": [
       "<Figure size 432x288 with 1 Axes>"
      ]
     },
     "metadata": {
      "needs_background": "light"
     },
     "output_type": "display_data"
    }
   ],
   "source": [
    "plt.scatter(x_test, y_test)\n",
    "plt.scatter(x_test, m[0]*x_test + m[1], s=1)\n",
    "plt.title(\"Test dataset\")"
   ]
  },
  {
   "cell_type": "markdown",
   "metadata": {
    "deletable": false,
    "editable": false,
    "heading_collapsed": true,
    "hidden": true,
    "run_control": {
     "frozen": true
    }
   },
   "source": [
    "### Part4:\n",
    "Were the reported accuracies acceptable?\n",
    "\n",
    "What about the line you drew in the last part?\n",
    "\n",
    "Was it appropriate for the dataset?\n",
    "<br><br/>\n",
    "Explain what are the main problems here."
   ]
  },
  {
   "cell_type": "markdown",
   "metadata": {
    "hidden": true
   },
   "source": [
    "از مقادیر تابع هزینه مدل نتوانسته تخیمن خوبی از ورودی حتی برای داده های آموزش داشته باشد به همین  علت \n",
    "این دو هزینه تقریبا با یکدیگر برابر هستند در صورتی که انتظار داشتیم در حالت عادی مقدار تابع هزینه برای آموزش  خیلی کمتر از داده تست باشد\n",
    "در این حالت اصطلاح آندرفیت استفاده میشود\n",
    "همان طور که پیداست مدل بیش از حد ساده بوده و نمیتواند حالت سیسنوسی داده هارا دنبال کند یعنی باید ویژگی های بیشتری را برای آموزش در نظر گرفت تا بتواند حالت غیر خطی این دیتا ست را دنبال کندکه این کار موجب افزایش پارامتر های آموزش نیز میشود بنابراین مدل خطی   مناسب برای این دیتا ست نخواهد بود\n"
   ]
  },
  {
   "cell_type": "markdown",
   "metadata": {
    "deletable": false,
    "editable": false,
    "heading_collapsed": true,
    "hidden": true,
    "run_control": {
     "frozen": true
    }
   },
   "source": [
    "### Part5:\n",
    "Now, consider the `Locally Weighted Linear Regression` approach for this problem. Do expect it performs better than simple `Linear Regression` for this dataset?"
   ]
  },
  {
   "cell_type": "markdown",
   "metadata": {
    "hidden": true
   },
   "source": [
    "در این روش در واقع فاز آموزش به صورت جداگانه وجود نخواهد داشت و همه چیز در زمان تست محاسبه میشود روش به این صورت است که به داده های پیرامون داده تست یک وزن داده میشود که هرچه به داده تست نزدیک تر باشند وزن بیشری خواهند داشت و هرچه دورتر باشند وزن کمتری به خود می گیرند به همین علت به صورت محلی انگار رگرسیون خطی انجام میشود و نتیجه بهتری به لحاظ دقت خواهد داشت چون انگار این روش منحنی را به تعداد زیادی خط تقسیم میکند و میتواند توصیف بهتری از دیتاست داشته باشد البته به علت محاسبه ماتریس وزن برای هر یک از داده های تست به لحاظ محاسباتی غیر بهینه خواهد بود "
   ]
  },
  {
   "cell_type": "markdown",
   "metadata": {
    "deletable": false,
    "editable": false,
    "heading_collapsed": true,
    "hidden": true,
    "run_control": {
     "frozen": true
    }
   },
   "source": [
    "### Part6:\n",
    "Here, we want to implement the `suggested model`. You can implement any weight function you want, the below implementation is just a sample:\n",
    "<br><br/>\n",
    "\\begin{equation*}\n",
    "    w^{(i)}=exp\\left(-\\frac{(\\mathbf x^{(i)}-\\mathbf x)^\\top(\\mathbf x^{(i)}-\\mathbf x)}{2\\tau^2}\\right)\n",
    "\\end{equation*}"
   ]
  },
  {
   "cell_type": "code",
   "execution_count": 9,
   "metadata": {
    "hidden": true
   },
   "outputs": [],
   "source": [
    "def get_weight_matrix(the_query_point, train_dataset, hyperparameter):\n",
    "    l = train_dataset.shape[0]\n",
    "    \n",
    "    # W = np.mat(np.eye(l))\n",
    "    # for i, xi in enumerate(train_dataset):\n",
    "    #     W[i, i] = np.exp(-1*np.dot((xi-the_query_point).T,(xi-the_query_point))/(2*hyperparameter**2))\n",
    "    W=np.diag(np.diag(np.exp(-1*np.dot((train_dataset-the_query_point),(train_dataset-the_query_point).T)/(2*hyperparameter**2))))\n",
    "    return W"
   ]
  },
  {
   "cell_type": "markdown",
   "metadata": {
    "deletable": false,
    "editable": false,
    "hidden": true,
    "run_control": {
     "frozen": true
    }
   },
   "source": [
    "Now implement the `closed form solution` based on the following formula:\n",
    "<br><br/>\n",
    "\\begin{equation*}\n",
    "    \\boldsymbol\\theta=(X^\\top WX)^{-1}(X^\\top WY)\n",
    "\\end{equation*}\n",
    "<br><br/>\n",
    "Of course if you use another form, implement your own."
   ]
  },
  {
   "cell_type": "code",
   "execution_count": 10,
   "metadata": {
    "hidden": true
   },
   "outputs": [],
   "source": [
    "def predict(train_X, train_Y, query_x, hyperparameter):\n",
    "    l = train_X.shape[0]\n",
    "    X = np.hstack((x_train.reshape(-1,1), np.ones((l, 1))))\n",
    "    qx = np.mat([query_x, 1])\n",
    "    W = get_weight_matrix(qx, X, hyperparameter)\n",
    "    theta = np.dot(np.linalg.inv(np.dot(np.dot(X.T,W),X)),np.dot(np.dot(X.T,W),train_Y))\n",
    "\n",
    "    return np.dot(qx, theta)"
   ]
  },
  {
   "cell_type": "markdown",
   "metadata": {
    "deletable": false,
    "editable": false,
    "heading_collapsed": true,
    "hidden": true,
    "run_control": {
     "frozen": true
    }
   },
   "source": [
    "### Part7:\n",
    "Report accuracy of this model on the test dataset. Also, draw a plot that contains (x_test, y_test) pairs and (x_test, predicted_y) pairs that differ in color."
   ]
  },
  {
   "cell_type": "code",
   "execution_count": 42,
   "metadata": {
    "hidden": true
   },
   "outputs": [
    {
     "name": "stdout",
     "output_type": "stream",
     "text": [
      "MSE test error: 0.09592753239137931\n"
     ]
    }
   ],
   "source": [
    "predicted_test = [predict(x_train, y_train, query, hyperparameter=0.1) for query in x_test]\n",
    "# error = np.dot((predicted_test-y_test).T,(predicted_test-y_test))/(len(y_test))\n",
    "error = mean_squared_error(y_test,np.array(predicted_test)[:,0,0])\n",
    "print(f\"MSE test error: {error}\")"
   ]
  },
  {
   "cell_type": "code",
   "execution_count": 12,
   "metadata": {
    "hidden": true
   },
   "outputs": [
    {
     "data": {
      "text/plain": [
       "<matplotlib.collections.PathCollection at 0x1f158fdb910>"
      ]
     },
     "execution_count": 12,
     "metadata": {},
     "output_type": "execute_result"
    },
    {
     "data": {
      "image/png": "[encoded data removed]",
      "text/plain": [
       "<Figure size 432x288 with 1 Axes>"
      ]
     },
     "metadata": {
      "needs_background": "light"
     },
     "output_type": "display_data"
    }
   ],
   "source": [
    "plt.scatter(x_test, y_test, c=\"blue\")\n",
    "plt.scatter(x_test, predicted_test, c=\"yellow\")"
   ]
  },
  {
   "cell_type": "markdown",
   "metadata": {
    "deletable": false,
    "editable": false,
    "heading_collapsed": true,
    "hidden": true,
    "run_control": {
     "frozen": true
    }
   },
   "source": [
    "### Part8:\n",
    "Is the performance of the new model better than the previous one? `Explain`."
   ]
  },
  {
   "cell_type": "markdown",
   "metadata": {
    "hidden": true
   },
   "source": [
    "بله این روش همان طور که قبلا نیز در قسمت پنجم توضیح داده شد نتیجه بهتری داده چون با تنظیم هایپر پارامتر مربوطه میزان \n",
    "محلی بودن را میتوان افزایش یا کاهش داد که با زیاد کردن این پارامتر تقریبا ماتریس  وزن به سمت ماتریس همانی میل کرده و نتیجه مثل \n",
    "رگرسیون خطی ساده خواهد بود ولی با کم کردن این مقدار میزان محلی بودن نیز افزایش مییابد و قادر خواهد بود تغییرات نمودار را بهتر دنبال کند این \n",
    "بدین دلیل است که مقدار قطر اصلی ماتریس وزن ها برای نمونه ها نزدیک تقریبا یک و برای نمونه ها دور به صفر میل میکند"
   ]
  },
  {
   "cell_type": "markdown",
   "metadata": {
    "deletable": false,
    "editable": false,
    "heading_collapsed": true,
    "hidden": true,
    "run_control": {
     "frozen": true
    }
   },
   "source": [
    "### Part9:\n",
    "Now, we want to consider the `KNN` approach for this problem; Do you think it will perform well?"
   ]
  },
  {
   "cell_type": "markdown",
   "metadata": {
    "hidden": true
   },
   "source": [
    "این الگوریتم نیز مانند رگرسیون خطی باوزن های محلی یک الگوریتم محلی بوده با این تفاوت که هربار برای پیشبینی مقدار مورد نظر باید \n",
    "براساس فاصله نزدیک نقاط در داده های آموزش را در نظر بگیریم که تعداد آن یک فرا پارامتر بوده وبین این داده های نزدیک میانگین میگیریم\n",
    "براین اساس اگر مقدار فراپارامتر را کمترین عدد یعنی یک بگیریم تابع حاصل به صورت پله ای خواهد شد و اگر این مقدار را خیلی زیاد بگیریم \n",
    "به سمت میانگین داده ها میل خواهد کرد بنابراین با تنظیم این پارامتر میزان پیچیدگی مدل نیز تغییر خواهد نمود برای این مثال خاص  با تنظیم \n",
    "مناسب میتوان دقت خوبی بدست آورد"
   ]
  },
  {
   "cell_type": "markdown",
   "metadata": {
    "deletable": false,
    "editable": false,
    "heading_collapsed": true,
    "hidden": true,
    "run_control": {
     "frozen": true
    }
   },
   "source": [
    "### Part10:\n",
    "Implementing the `KNN model`."
   ]
  },
  {
   "cell_type": "code",
   "execution_count": 13,
   "metadata": {
    "hidden": true
   },
   "outputs": [],
   "source": [
    "from turtle import distance\n",
    "\n",
    "\n",
    "class KNN:\n",
    "    def __init__(self, number_neighbours, X, Y):\n",
    "        self.k = number_neighbours\n",
    "        self.X = X\n",
    "        self.Y = Y\n",
    "\n",
    "    def distance(self, x1):#, x2\n",
    "        distance = np.sqrt((self.X-x1)**2) # implement the distance function\n",
    "        return distance\n",
    "\n",
    "    def return_nn_ids(self, x):\n",
    "        indexes=np.arange(len(self.X))\n",
    "        dist=self.distance(x)\n",
    "        indices = [idx for _,idx in sorted(zip(dist,indexes))] # find indices of k nearest neighbours to x\n",
    "        return indices[0:self.k]\n",
    "\n",
    "    def predict(self, x):\n",
    "        neareest_indices = self.return_nn_ids(x)\n",
    "        predicted_y = np.mean(self.Y[neareest_indices])\n",
    "        return predicted_y"
   ]
  },
  {
   "cell_type": "code",
   "execution_count": 14,
   "metadata": {
    "hidden": true
   },
   "outputs": [],
   "source": [
    "def evaluation(k, x_train, y_train, x_test, y_test):\n",
    "    model = KNN(k, x_train, y_train)\n",
    "    predicted_y = [model.predict(x) for x in x_test]\n",
    "    error = mean_squared_error(y_test,predicted_y)\n",
    "    return error, predicted_y"
   ]
  },
  {
   "cell_type": "code",
   "execution_count": 46,
   "metadata": {
    "hidden": true
   },
   "outputs": [
    {
     "name": "stdout",
     "output_type": "stream",
     "text": [
      "MSE error of KNN for test dataset: 0.0845554150389432\n"
     ]
    }
   ],
   "source": [
    "k = 5\n",
    "error_knn, predicted_y = evaluation(k, x_train, y_train, x_test, y_test)\n",
    "print(f\"MSE error of KNN for test dataset: {error_knn}\")"
   ]
  },
  {
   "cell_type": "code",
   "execution_count": 39,
   "metadata": {
    "hidden": true
   },
   "outputs": [
    {
     "data": {
      "text/plain": [
       "<matplotlib.collections.PathCollection at 0x1f15b86c490>"
      ]
     },
     "execution_count": 39,
     "metadata": {},
     "output_type": "execute_result"
    },
    {
     "data": {
      "image/png": "[encoded data removed]",
      "text/plain": [
       "<Figure size 432x288 with 1 Axes>"
      ]
     },
     "metadata": {
      "needs_background": "light"
     },
     "output_type": "display_data"
    }
   ],
   "source": [
    "plt.scatter(x_test, y_test, c=\"blue\")\n",
    "plt.scatter(x_test, predicted_y, c=\"yellow\")"
   ]
  },
  {
   "cell_type": "code",
   "execution_count": 43,
   "metadata": {},
   "outputs": [
    {
     "name": "stdout",
     "output_type": "stream",
     "text": [
      "min error occure in K =  20\n"
     ]
    },
    {
     "data": {
      "image/png": "[encoded data removed]",
      "text/plain": [
       "<Figure size 432x288 with 1 Axes>"
      ]
     },
     "metadata": {
      "needs_background": "light"
     },
     "output_type": "display_data"
    }
   ],
   "source": [
    "tot_index=np.arange(len(dataset))\n",
    "L=int(len(dataset)/10)\n",
    "np.random.shuffle(tot_index)\n",
    "k = [1,2,3,4,5,6,7,8,9,10,15,20,25,30,40,50,60]\n",
    "y_cv=[]\n",
    "for K in k:\n",
    "    y=0\n",
    "    for i in range(10):\n",
    "        test_idx=tot_index[L*i:L*i+L]\n",
    "        train_idx=np.array(list(set(tot_index)-set(test_idx)))\n",
    "        cv_x_test=np.array(dataset['X'][test_idx])\n",
    "        cv_y_test=np.array(dataset['Y'][test_idx])\n",
    "        cv_x_train=np.array(dataset['X'][train_idx])\n",
    "        cv_y_train=np.array(dataset['Y'][train_idx])\n",
    "        error_knn, _ = evaluation(K, cv_x_train, cv_y_train, cv_x_test, cv_y_test)\n",
    "        y+=error_knn\n",
    "    y_cv.append(y/10)\n",
    "plt.scatter(k, y_cv, c=\"blue\")\n",
    "plt.title(\"Hyper Paramerter selection with CV\")\n",
    "plt.xlabel('K in KNN')\n",
    "plt.ylabel('Mean Error base on CV')\n",
    "print(\"min error occure in K = \",[K for _,K in sorted(zip(y_cv,k))][0])"
   ]
  },
  {
   "cell_type": "markdown",
   "metadata": {
    "deletable": false,
    "editable": false,
    "hidden": true,
    "run_control": {
     "frozen": true
    }
   },
   "source": [
    "To find best K for this algorithm we suggest to use cross-validation.\n",
    "<br><br/>\n",
    "Did this model perform well (due to the plot and test accuracy)?"
   ]
  },
  {
   "cell_type": "markdown",
   "metadata": {
    "hidden": true
   },
   "source": [
    "بله با توجه به نتایج بدست آمده و با استفاده از تکنیک \"کراس ولیدیشن\" به میزان بهترین فراپارامتر برای این تکنیک \n",
    "دست پیدا کرده ایم که به صورت نمودار برای چندین مقدار رسم شده استکه میزان خطا حتی از روش رگرسیون خطی محلی  نیز نتایج بهتری بدست آمده است"
   ]
  }
 ],
 "metadata": {
  "kernelspec": {
   "display_name": "Python 3.8.10 64-bit",
   "language": "python",
   "name": "python3"
  },
  "language_info": {
   "codemirror_mode": {
    "name": "ipython",
    "version": 3
   },
   "file_extension": ".py",
   "mimetype": "text/x-python",
   "name": "python",
   "nbconvert_exporter": "python",
   "pygments_lexer": "ipython3",
   "version": "3.8.10"
  },
  "toc": {
   "base_numbering": 1,
   "nav_menu": {},
   "number_sections": true,
   "sideBar": true,
   "skip_h1_title": false,
   "title_cell": "Table of Contents",
   "title_sidebar": "Contents",
   "toc_cell": false,
   "toc_position": {},
   "toc_section_display": true,
   "toc_window_display": false
  },
  "varInspector": {
   "cols": {
    "lenName": 16,
    "lenType": 16,
    "lenVar": 40
   },
   "kernels_config": {
    "python": {
     "delete_cmd_postfix": "",
     "delete_cmd_prefix": "del ",
     "library": "var_list.py",
     "varRefreshCmd": "print(var_dic_list())"
    },
    "r": {
     "delete_cmd_postfix": ") ",
     "delete_cmd_prefix": "rm(",
     "library": "var_list.r",
     "varRefreshCmd": "cat(var_dic_list()) "
    }
   },
   "types_to_exclude": [
    "module",
    "function",
    "builtin_function_or_method",
    "instance",
    "_Feature"
   ],
   "window_display": false
  },
  "vscode": {
   "interpreter": {
    "hash": "570feb405e2e27c949193ac68f46852414290d515b0ba6e5d90d076ed2284471"
   }
  }
 },
 "nbformat": 4,
 "nbformat_minor": 4
}
